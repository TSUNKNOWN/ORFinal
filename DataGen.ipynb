{
 "cells": [
  {
   "cell_type": "code",
   "execution_count": 7,
   "metadata": {},
   "outputs": [],
   "source": [
    "import random\n",
    "import numpy as np\n",
    "import sys\n",
    "import csv\n",
    "import functools\n",
    "import operator\n",
    "from scipy.stats import expon\n",
    "from pprint import pprint\n",
    "Time = 300\n",
    "MaxNum = 100\n",
    "Floor = 7\n",
    "Filename = None"
   ]
  },
  {
   "cell_type": "code",
   "execution_count": 8,
   "metadata": {},
   "outputs": [
    {
     "name": "stdout",
     "output_type": "stream",
     "text": [
      "Usage: python DataGen.py Time MaxPeople Floor [OutputFile]\n",
      "Default?(n/y)y\n",
      "Time:300\n",
      "MaxPeople:100\n",
      "Floor:7\n",
      "Filename: testoutput.csv\n",
      "Frequency:0.3333333333333333\n"
     ]
    }
   ],
   "source": [
    "print('Usage: python DataGen.py Time MaxPeople Floor [OutputFile]')\n",
    "if 'y' in input('Default?(n/y)'):\n",
    "    Filename = 'testoutput.csv'\n",
    "elif len(sys.argv) == 1:\n",
    "    Time = int(input('Time?'))\n",
    "    MaxNum = int(input('MaxPeople?'))\n",
    "    Floor = int(input('Floor?'))\n",
    "elif len(sys.argv) >= 4:\n",
    "    Duration = int(sys.argv[1])\n",
    "    MaxNum = int(sys.argv[2])\n",
    "    Floor = int(sys.argv[3])\n",
    "    try:\n",
    "        Filename = sys.argv[4]\n",
    "    except:\n",
    "        pass\n",
    "elif sys.argv[1] == '-f':\n",
    "    pass\n",
    "else:\n",
    "    # If conert to .py\n",
    "    print('Invalid Arguments')\n",
    "    exit(0)\n",
    "Lambda = MaxNum/Time\n",
    "print(f'Time:{Time}')\n",
    "print(f'MaxPeople:{MaxNum}')\n",
    "print(f'Floor:{Floor}')\n",
    "print(f'Filename: {Filename}')\n",
    "print(f'Frequency:{Lambda}')"
   ]
  },
  {
   "cell_type": "code",
   "execution_count": 9,
   "metadata": {},
   "outputs": [],
   "source": [
    "def getThreshold(interval, lbda=Lambda):\n",
    "    # The probability that no people appear before interval\n",
    "    return expon.pdf(interval*lbda)\n",
    "\n",
    "def getTProb(args):\n",
    "    return random.random()\n",
    "\n",
    "# Not exactly probability, maybe some negative. But we only choose the maximum one, so forgive me plz.\n",
    "def getAProb(args):\n",
    "    aprobs = []\n",
    "    for f in range(Floor):\n",
    "        p = random.random() - getThreshold(args['Asinterval'][f])\n",
    "        aprobs.append(p)\n",
    "    return aprobs\n",
    "\n",
    "def getDProb(args):\n",
    "    dprobs = []\n",
    "    a = args['a']\n",
    "    for f in range(Floor):\n",
    "        dprobs.append(random.random() - getThreshold(args['Dsinterval'][f]))\n",
    "    # make sure the probability of same floor is minimum\n",
    "    dprobs[a] = min(dprobs)-1\n",
    "    return dprobs"
   ]
  },
  {
   "cell_type": "code",
   "execution_count": 10,
   "metadata": {},
   "outputs": [],
   "source": [
    "def getA(args):\n",
    "    aprobs = getAProb(args)\n",
    "    a = aprobs.index(max(aprobs))\n",
    "    args['Asinterval'][a] = 0\n",
    "    args['a'] = a\n",
    "    return a+1\n",
    "def getD(args):\n",
    "    dprobs = getDProb(args)\n",
    "    d = dprobs.index(max(dprobs))\n",
    "    args['Dsinterval'][d] = 0\n",
    "    return d+1"
   ]
  },
  {
   "cell_type": "code",
   "execution_count": 11,
   "metadata": {},
   "outputs": [
    {
     "name": "stdout",
     "output_type": "stream",
     "text": [
      "Warning! Exceed expected time 300 with t=393\n",
      "The Last passenger arrived time: 393\n",
      "Average arrived Interval: 3.92\n",
      "From a to d scatter table:\n",
      "[[0, 1, 2, 3, 4, 5, 6, 7],\n",
      " [1, 0, 1, 5, 1, 4, 3, 2],\n",
      " [2, 3, 0, 4, 3, 3, 0, 8],\n",
      " [3, 3, 2, 0, 3, 1, 2, 1],\n",
      " [4, 4, 1, 0, 0, 2, 2, 4],\n",
      " [5, 1, 1, 1, 6, 0, 2, 1],\n",
      " [6, 4, 2, 2, 2, 2, 0, 0],\n",
      " [7, 1, 7, 2, 2, 0, 2, 0]]\n"
     ]
    }
   ],
   "source": [
    "A = []\n",
    "D = []\n",
    "T = []\n",
    "nowNum = 0\n",
    "t = 0\n",
    "interval = 0\n",
    "args = {'time':t, \n",
    "        'Tsinterval':interval, \n",
    "        'Asinterval':[0 for _ in range(Floor)],\n",
    "        'Dsinterval':[0 for _ in range(Floor)],\n",
    "       'SumOfTInterval':0}\n",
    "adTable = [[0 for j in range(Floor+1)] for i in range(Floor+1)]\n",
    "adTable[0] = [i for i in range(Floor+1)]\n",
    "for i in range(Floor+1):\n",
    "    adTable[i][0] = i\n",
    "tprob = getTProb(args)\n",
    "while nowNum < MaxNum :\n",
    "    havePeople =  tprob > getThreshold(args['Tsinterval'])\n",
    "    if havePeople:\n",
    "        nowNum += 1\n",
    "        tprob = getTProb(args)\n",
    "        args['SumOfTInterval'] += args['Tsinterval']\n",
    "        args['Tsinterval'] = 0 \n",
    "        T.append(args['time'])\n",
    "        a = getA(args)\n",
    "        A.append(a)\n",
    "        d = getD(args)\n",
    "        D.append(d)\n",
    "        adTable[a][d] += 1\n",
    "    for f in range(Floor):\n",
    "        args['Asinterval'][f] += 1\n",
    "    for f in range(Floor):\n",
    "        args['Dsinterval'][f] += 1\n",
    "    args['Tsinterval'] += 1\n",
    "    args['time'] = args['time'] + 1\n",
    "if args['time'] > Time:\n",
    "    print(f'Warning! Exceed expected time {Time} with t={args[\"time\"]}')\n",
    "print(f'The Last passenger arrived time: {args[\"time\"]}')\n",
    "print(f'Average arrived Interval: {args[\"SumOfTInterval\"]/MaxNum}')\n",
    "# adTable[a][d] means # of passengers from a to d\n",
    "print('From a to d scatter table:')\n",
    "pprint(adTable)"
   ]
  },
  {
   "cell_type": "code",
   "execution_count": 12,
   "metadata": {},
   "outputs": [
    {
     "name": "stdout",
     "output_type": "stream",
     "text": [
      "Write to testoutput.csv\n"
     ]
    }
   ],
   "source": [
    "if Filename != None:\n",
    "    with open(Filename, 'w') as f:\n",
    "        print(f'Write to {Filename}')\n",
    "        writer = csv.writer(f)\n",
    "        index = []\n",
    "        for i in range(1, MaxNum+1):\n",
    "            index.append(str(i))\n",
    "        writer.writerow(index)\n",
    "        writer.writerow(T)\n",
    "        writer.writerow(A)\n",
    "        writer.writerow(D)\n",
    "else:\n",
    "    print(','.join(str(i) for i in range(1, MaxNum+1)))\n",
    "    print(','.join(str(t) for t in T))\n",
    "    print(','.join(str(a) for a in A))\n",
    "    print(','.join(str(d) for d in D))"
   ]
  }
 ],
 "metadata": {
  "kernelspec": {
   "display_name": "Python 3",
   "language": "python",
   "name": "python3"
  },
  "language_info": {
   "codemirror_mode": {
    "name": "ipython",
    "version": 3
   },
   "file_extension": ".py",
   "mimetype": "text/x-python",
   "name": "python",
   "nbconvert_exporter": "python",
   "pygments_lexer": "ipython3",
   "version": "3.7.3"
  },
  "toc": {
   "base_numbering": 1,
   "nav_menu": {},
   "number_sections": false,
   "sideBar": true,
   "skip_h1_title": false,
   "title_cell": "Table of Contents",
   "title_sidebar": "Contents",
   "toc_cell": false,
   "toc_position": {},
   "toc_section_display": true,
   "toc_window_display": false
  }
 },
 "nbformat": 4,
 "nbformat_minor": 2
}
