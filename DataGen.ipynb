{
 "cells": [
  {
   "cell_type": "code",
   "execution_count": 17,
   "metadata": {},
   "outputs": [],
   "source": [
    "import random\n",
    "import numpy as np\n",
    "import sys\n",
    "import csv\n",
    "import functools\n",
    "import operator\n",
    "Time = 1000\n",
    "MaxNum = 10\n",
    "Floor = 7\n",
    "Filename = 'testoutput.csv'"
   ]
  },
  {
   "cell_type": "code",
   "execution_count": 18,
   "metadata": {},
   "outputs": [
    {
     "name": "stdout",
     "output_type": "stream",
     "text": [
      "Usage: python DataGen.py Time MaxPeople Floor [OutputFile]\n"
     ]
    },
    {
     "name": "stderr",
     "output_type": "stream",
     "text": [
      "ERROR:root:Invalid alias: The name clear can't be aliased because it is another magic command.\n",
      "ERROR:root:Invalid alias: The name more can't be aliased because it is another magic command.\n",
      "ERROR:root:Invalid alias: The name less can't be aliased because it is another magic command.\n",
      "ERROR:root:Invalid alias: The name man can't be aliased because it is another magic command.\n"
     ]
    }
   ],
   "source": [
    "if len(sys.argv) == 1:\n",
    "    Time = int(input())\n",
    "    MaxNum = int(input())\n",
    "    Floor = int(input())\n",
    "elif len(sys.argv) >= 4:\n",
    "    Duration = int(sys.argv[1])\n",
    "    MaxNum = int(sys.argv[2])\n",
    "    Floor = int(sys.argv[3])\n",
    "    try:\n",
    "        Filename = sys.argv[4]\n",
    "    except:\n",
    "        pass\n",
    "else:\n",
    "    # If conert to .py\n",
    "    print('Usage: python DataGen.py Time MaxPeople Floor [OutputFile]')\n",
    "    exit(0)\n",
    "Prob = 1-1/Time"
   ]
  },
  {
   "cell_type": "code",
   "execution_count": 7,
   "metadata": {},
   "outputs": [],
   "source": [
    "def getTProb(args):\n",
    "    return calcTProb(args)\n",
    "def getAProb(args):\n",
    "    aprobs = []\n",
    "    for f in range(Floor):\n",
    "        aprobs.append(calcAProb(args))\n",
    "    return aprobs\n",
    "def getDProb(args):\n",
    "    dprobs = []\n",
    "    a = args['a']\n",
    "    for f in range(Floor):\n",
    "        dprobs.append(calcDProb(args))\n",
    "    dprobs[a-1] = 0\n",
    "    return dprobs"
   ]
  },
  {
   "cell_type": "code",
   "execution_count": 8,
   "metadata": {},
   "outputs": [],
   "source": [
    "def calcTProb(args):\n",
    "    return random.random()\n",
    "def calcAProb(args):\n",
    "    return random.random()\n",
    "def calcDProb(args):\n",
    "    return random.random()"
   ]
  },
  {
   "cell_type": "code",
   "execution_count": 15,
   "metadata": {},
   "outputs": [
    {
     "name": "stdout",
     "output_type": "stream",
     "text": [
      "Warning! Exceed expected time with t=634\n"
     ]
    }
   ],
   "source": [
    "A = []\n",
    "D = []\n",
    "T = []\n",
    "nowNum = 0\n",
    "t = 1\n",
    "interval = 0\n",
    "args = {'time':t, 'interval':interval}\n",
    "while nowNum < MaxNum :\n",
    "    havePeople = getTProb(args) > Prob\n",
    "    if havePeople:\n",
    "        nowNum += 1\n",
    "        args['time'] = t\n",
    "        args['interval'] = interval \n",
    "        T.append(t)\n",
    "        aprobs = getAProb(args)\n",
    "        a = aprobs.index(max(aprobs))+1\n",
    "        A.append(a)\n",
    "        args['a'] = a\n",
    "        dprobs = getDProb(args)\n",
    "        d = dprobs.index(max(dprobs))+1\n",
    "        D.append(d)\n",
    "        interval = 0\n",
    "    interval += 1\n",
    "    t += 1\n",
    "if t > Time:\n",
    "    print(f'Warning! Exceed expected time with t={t}')"
   ]
  },
  {
   "cell_type": "code",
   "execution_count": 107,
   "metadata": {},
   "outputs": [
    {
     "name": "stdout",
     "output_type": "stream",
     "text": [
      "Write to testoutput.csv\n"
     ]
    }
   ],
   "source": [
    "if Filename != None:\n",
    "    with open(Filename, 'w') as f:\n",
    "        print(f'Write to {Filename}')\n",
    "        writer = csv.writer(f)\n",
    "        index = ['',]\n",
    "        for i in range(1, MaxNum+1):\n",
    "            index.append(str(i))\n",
    "        writer.writerow(index)\n",
    "        writer.writerow(T)\n",
    "        writer.writerow(A)\n",
    "        writer.writerow(D)\n",
    "else:\n",
    "    print(','.join(str(i) for i in range(1, MaxNum+1)))\n",
    "    print(','.join(str(t) for t in T))\n",
    "    print(','.join(str(a) for a in A))\n",
    "    print(','.join(str(d) for d in D))"
   ]
  },
  {
   "cell_type": "code",
   "execution_count": null,
   "metadata": {},
   "outputs": [],
   "source": []
  }
 ],
 "metadata": {
  "kernelspec": {
   "display_name": "Python 3",
   "language": "python",
   "name": "python3"
  },
  "language_info": {
   "codemirror_mode": {
    "name": "ipython",
    "version": 3
   },
   "file_extension": ".py",
   "mimetype": "text/x-python",
   "name": "python",
   "nbconvert_exporter": "python",
   "pygments_lexer": "ipython3",
   "version": "3.7.3"
  },
  "toc": {
   "base_numbering": 1,
   "nav_menu": {},
   "number_sections": false,
   "sideBar": true,
   "skip_h1_title": false,
   "title_cell": "Table of Contents",
   "title_sidebar": "Contents",
   "toc_cell": false,
   "toc_position": {},
   "toc_section_display": true,
   "toc_window_display": false
  }
 },
 "nbformat": 4,
 "nbformat_minor": 2
}
